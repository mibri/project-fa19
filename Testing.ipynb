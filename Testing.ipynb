{
 "cells": [
  {
   "cell_type": "code",
   "execution_count": 1,
   "metadata": {},
   "outputs": [],
   "source": [
    "import solver\n",
    "import output_validator\n",
    "import matplotlib as plt"
   ]
  },
  {
   "cell_type": "code",
   "execution_count": 2,
   "metadata": {},
   "outputs": [],
   "source": [
    "#solver.solve_all(\"./inputs\", \"./test_ouputs\")"
   ]
  },
  {
   "cell_type": "code",
   "execution_count": 7,
   "metadata": {},
   "outputs": [
    {
     "name": "stdout",
     "output_type": "stream",
     "text": [
      "Processing ./inputs/153_50.in\n",
      "1\n",
      "1\n",
      "1\n",
      "1\n",
      "1\n",
      "1\n",
      "1\n",
      "1\n",
      "1\n",
      "1\n",
      "1\n",
      "1\n",
      "1\n",
      "1\n",
      "1\n",
      "1\n",
      "1\n",
      "1\n",
      "1\n",
      "1\n",
      "1\n",
      "1\n",
      "1\n",
      "1\n",
      "1\n",
      "0\n",
      "0\n",
      "Processing ./inputs/153_50.in\n",
      "Comments about input file:\n",
      "\n",
      "Your file is named 153_50.in. The allowed file names are: [50, 100, 200].\n",
      "Comments about output file:\n",
      "\n",
      "At least one dropoff location is not in the path of the car.\n",
      "At least one dropoff location is not in the path of the car.\n",
      "One dropoff location has nobody getting off; it should not be included in the list of dropoffs.\n",
      "At least one student did not get home.\n",
      "\n",
      "(True, 'infinite', 'Your file is named 153_50.in. The allowed file names are: [50, 100, 200].\\nSince this input is invalid, you will not receive a score for its output.\\n')\n"
     ]
    }
   ],
   "source": [
    "solver.solve_from_file(\"./inputs/153_50.in\", \"./test_ouputs_single\")\n",
    "print(output_validator.validate_output(\"./inputs/153_50.in\", \"./test_ouputs_single/153_50.out\"))"
   ]
  },
  {
   "cell_type": "code",
   "execution_count": 4,
   "metadata": {},
   "outputs": [
    {
     "name": "stdout",
     "output_type": "stream",
     "text": [
      "Processing ./inputs/234_200.in\n",
      "1\n",
      "1\n",
      "1\n",
      "1\n",
      "1\n",
      "1\n",
      "1\n",
      "1\n",
      "1\n",
      "1\n",
      "1\n",
      "1\n",
      "1\n",
      "1\n",
      "1\n",
      "1\n",
      "1\n",
      "1\n",
      "1\n",
      "1\n",
      "1\n",
      "1\n",
      "1\n",
      "1\n",
      "1\n",
      "1\n",
      "1\n",
      "Processing ./inputs/234_200.in\n",
      "Comments about input file:\n",
      "\n",
      "Your file is named 234_200.in. The allowed file names are: [50, 100, 200].\n",
      "Comments about output file:\n",
      "\n",
      "At least one student did not get home.\n",
      "\n",
      "(True, 'infinite', 'Your file is named 234_200.in. The allowed file names are: [50, 100, 200].\\nSince this input is invalid, you will not receive a score for its output.\\n')\n"
     ]
    }
   ],
   "source": [
    "solver.solve_from_file(\"./inputs/234_200.in\", \"./test_ouputs_single\")\n",
    "print(output_validator.validate_output(\"./inputs/234_200.in\", \"./test_ouputs_single/234_200.out\"))\n"
   ]
  },
  {
   "cell_type": "code",
   "execution_count": null,
   "metadata": {},
   "outputs": [],
   "source": []
  }
 ],
 "metadata": {
  "kernelspec": {
   "display_name": "Python 3",
   "language": "python",
   "name": "python3"
  },
  "language_info": {
   "codemirror_mode": {
    "name": "ipython",
    "version": 3
   },
   "file_extension": ".py",
   "mimetype": "text/x-python",
   "name": "python",
   "nbconvert_exporter": "python",
   "pygments_lexer": "ipython3",
   "version": "3.6.3"
  }
 },
 "nbformat": 4,
 "nbformat_minor": 2
}

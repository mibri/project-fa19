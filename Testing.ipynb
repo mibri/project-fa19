{
 "cells": [
  {
   "cell_type": "code",
   "execution_count": 1,
   "metadata": {},
   "outputs": [],
   "source": [
    "import solver\n",
    "import output_validator\n",
    "import matplotlib as plt"
   ]
  },
  {
   "cell_type": "code",
   "execution_count": 2,
   "metadata": {},
   "outputs": [],
   "source": [
    "#solver.solve_all(\"./inputs\", \"./test_ouputs\")"
   ]
  },
  {
   "cell_type": "code",
   "execution_count": 3,
   "metadata": {},
   "outputs": [
    {
     "name": "stdout",
     "output_type": "stream",
     "text": [
      "Processing ./inputs/153_50.in\n",
      "[43, 0, 20, 46, 18, 46, 26, 46, 20, 0, 47, 3, 2, 33, 2, 3, 44, 3, 47, 0, 43, 9, 4, 1, 14, 1, 49, 1, 4, 9, 23, 6, 35, 6, 38, 6, 23, 40, 8, 40, 11, 40, 23, 9, 43, 34, 19, 31, 29, 31, 19, 39, 16, 15, 16, 39, 19, 34, 30, 7, 27, 22, 27, 42, 27, 7, 30, 34, 41, 32, 21, 13, 21, 48, 21, 32, 28, 10, 28, 45, 28, 32, 41, 34, 43]\n",
      "18\n",
      "26\n",
      "44\n",
      "14\n",
      "49\n",
      "35\n",
      "8\n",
      "29\n",
      "22\n",
      "13\n",
      "10\n",
      "[43, 0, 47, 3, 2, 33, 2, 3, 47, 0, 43, 9, 23, 6, 38, 6, 23, 40, 11, 40, 23, 9, 43, 34, 19, 39, 16, 15, 16, 39, 19, 34, 30, 7, 27, 42, 27, 7, 30, 34, 41, 32, 21, 48, 21, 32, 28, 45, 28, 32, 41, 34, 43]\n",
      "46\n",
      "[18]\n",
      "1\n",
      "[14]\n",
      "Processing ./inputs/153_50.in\n",
      "Comments about input file:\n",
      "\n",
      "Your file is named 153_50.in. The allowed file names are: [50, 100, 200].\n",
      "Comments about output file:\n",
      "\n",
      "At least one dropoff location is not in the path of the car.\n",
      "At least one dropoff location is not in the path of the car.\n",
      "\n",
      "(True, 'infinite', 'Your file is named 153_50.in. The allowed file names are: [50, 100, 200].\\nSince this input is invalid, you will not receive a score for its output.\\n')\n"
     ]
    }
   ],
   "source": [
    "solver.solve_from_file(\"./inputs/153_50.in\", \"./test_ouputs_single\")\n",
    "print(output_validator.validate_output(\"./inputs/153_50.in\", \"./test_ouputs_single/153_50.out\"))"
   ]
  },
  {
   "cell_type": "code",
   "execution_count": 4,
   "metadata": {
    "scrolled": true
   },
   "outputs": [
    {
     "name": "stdout",
     "output_type": "stream",
     "text": [
      "Processing ./inputs/237_200.in\n",
      "[0, 1, 0, 15, 14, 3, 2, 3, 14, 12, 16, 17, 13, 9, 10, 9, 20, 18, 7, 8, 5, 8, 6, 8, 7, 18, 20, 21, 30, 22, 30, 29, 23, 24, 26, 25, 26, 24, 23, 27, 23, 29, 30, 34, 33, 47, 44, 48, 49, 48, 44, 47, 33, 34, 30, 35, 37, 38, 36, 42, 46, 42, 36, 38, 41, 40, 41, 38, 37, 35, 30, 21, 20, 9, 13, 11, 4, 11, 13, 17, 16, 12, 14, 15, 0, 50, 51, 50, 65, 64, 53, 52, 53, 64, 62, 66, 67, 63, 59, 60, 59, 70, 68, 57, 58, 55, 58, 56, 58, 57, 68, 70, 71, 80, 72, 80, 79, 73, 74, 76, 75, 76, 74, 73, 77, 73, 79, 80, 84, 83, 97, 94, 98, 99, 98, 94, 97, 83, 84, 80, 85, 87, 88, 86, 92, 96, 92, 86, 88, 91, 90, 91, 88, 87, 85, 80, 71, 70, 59, 63, 61, 54, 61, 63, 67, 66, 62, 64, 65, 50, 100, 101, 100, 115, 114, 103, 102, 103, 114, 112, 116, 117, 113, 109, 110, 109, 120, 118, 107, 108, 105, 108, 106, 108, 107, 118, 120, 121, 130, 122, 130, 129, 123, 124, 126, 125, 126, 124, 123, 127, 123, 129, 130, 134, 133, 147, 144, 148, 149, 148, 144, 147, 133, 134, 130, 135, 137, 138, 136, 142, 146, 142, 136, 138, 141, 140, 141, 138, 137, 135, 130, 121, 120, 109, 113, 111, 104, 111, 113, 117, 116, 112, 114, 115, 100, 150, 151, 150, 165, 164, 153, 152, 153, 164, 165, 150, 199, 198, 194, 197, 183, 184, 180, 171, 170, 159, 160, 159, 163, 161, 154, 161, 163, 159, 170, 168, 157, 158, 155, 158, 156, 158, 157, 168, 170, 171, 180, 172, 180, 179, 173, 174, 176, 175, 176, 174, 173, 177, 173, 179, 180, 185, 187, 188, 186, 192, 196, 192, 186, 188, 191, 190, 191, 188, 187, 185, 180, 184, 183, 197, 194, 198, 199, 150, 100, 50, 0]\n",
      "1\n",
      "10\n",
      "5\n",
      "6\n",
      "22\n",
      "27\n",
      "4\n",
      "51\n",
      "60\n",
      "55\n",
      "56\n",
      "72\n",
      "77\n",
      "54\n",
      "101\n",
      "110\n",
      "105\n",
      "106\n",
      "122\n",
      "127\n",
      "104\n",
      "151\n",
      "160\n",
      "154\n",
      "155\n",
      "156\n",
      "172\n",
      "177\n",
      "[0, 15, 14, 3, 2, 3, 14, 12, 16, 17, 13, 9, 20, 21, 30, 29, 23, 24, 26, 25, 26, 24, 23, 29, 30, 34, 33, 47, 44, 48, 49, 48, 44, 47, 33, 34, 30, 35, 37, 38, 36, 42, 46, 42, 36, 38, 41, 40, 41, 38, 37, 35, 30, 21, 20, 9, 13, 17, 16, 12, 14, 15, 0, 50, 65, 64, 53, 52, 53, 64, 62, 66, 67, 63, 59, 70, 71, 80, 79, 73, 74, 76, 75, 76, 74, 73, 79, 80, 84, 83, 97, 94, 98, 99, 98, 94, 97, 83, 84, 80, 85, 87, 88, 86, 92, 96, 92, 86, 88, 91, 90, 91, 88, 87, 85, 80, 71, 70, 59, 63, 67, 66, 62, 64, 65, 50, 100, 115, 114, 103, 102, 103, 114, 112, 116, 117, 113, 109, 120, 121, 130, 129, 123, 124, 126, 125, 126, 124, 123, 129, 130, 134, 133, 147, 144, 148, 149, 148, 144, 147, 133, 134, 130, 135, 137, 138, 136, 142, 146, 142, 136, 138, 141, 140, 141, 138, 137, 135, 130, 121, 120, 109, 113, 117, 116, 112, 114, 115, 100, 150, 165, 164, 153, 152, 153, 164, 165, 150, 199, 198, 194, 197, 183, 184, 180, 179, 173, 174, 176, 175, 176, 174, 173, 179, 180, 185, 187, 188, 186, 192, 196, 192, 186, 188, 191, 190, 191, 188, 187, 185, 180, 184, 183, 197, 194, 198, 199, 150, 100, 50, 0]\n",
      "8\n",
      "[5]\n",
      "58\n",
      "[55]\n",
      "108\n",
      "[105]\n",
      "159\n",
      "[160]\n",
      "170\n",
      "[154]\n",
      "158\n",
      "[155]\n",
      "Processing ./inputs/237_200.in\n",
      "Comments about input file:\n",
      "\n",
      "Your file is named 237_200.in. The allowed file names are: [50, 100, 200].\n",
      "Comments about output file:\n",
      "\n",
      "At least one dropoff location is not in the path of the car.\n",
      "At least one dropoff location is not in the path of the car.\n",
      "At least one dropoff location is not in the path of the car.\n",
      "At least one dropoff location is not in the path of the car.\n",
      "At least one dropoff location is not in the path of the car.\n",
      "At least one dropoff location is not in the path of the car.\n",
      "\n",
      "(True, 'infinite', 'Your file is named 237_200.in. The allowed file names are: [50, 100, 200].\\nSince this input is invalid, you will not receive a score for its output.\\n')\n"
     ]
    }
   ],
   "source": [
    "solver.solve_from_file(\"./inputs/237_200.in\", \"./test_ouputs_single\")\n",
    "print(output_validator.validate_output(\"./inputs/237_200.in\", \"./test_ouputs_single/237_200.out\"))\n"
   ]
  },
  {
   "cell_type": "code",
   "execution_count": null,
   "metadata": {},
   "outputs": [],
   "source": []
  }
 ],
 "metadata": {
  "kernelspec": {
   "display_name": "Python 3",
   "language": "python",
   "name": "python3"
  },
  "language_info": {
   "codemirror_mode": {
    "name": "ipython",
    "version": 3
   },
   "file_extension": ".py",
   "mimetype": "text/x-python",
   "name": "python",
   "nbconvert_exporter": "python",
   "pygments_lexer": "ipython3",
   "version": "3.6.3"
  }
 },
 "nbformat": 4,
 "nbformat_minor": 2
}

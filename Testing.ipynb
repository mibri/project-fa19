{
 "cells": [
  {
   "cell_type": "code",
   "execution_count": 1,
   "metadata": {},
   "outputs": [],
   "source": [
    "import solver\n",
    "import output_validator\n",
    "import matplotlib as plt"
   ]
  },
  {
   "cell_type": "code",
   "execution_count": 2,
   "metadata": {},
   "outputs": [],
   "source": [
    "#solver.solve_all(\"./inputs\", \"./test_ouputs\")"
   ]
  },
  {
   "cell_type": "code",
   "execution_count": 3,
   "metadata": {},
   "outputs": [
    {
     "name": "stdout",
     "output_type": "stream",
     "text": [
      "Processing ./inputs/153_50.in\n",
      "Processing ./inputs/153_50.in\n",
      "Comments about input file:\n",
      "\n",
      "Your file is named 153_50.in. The allowed file names are: [50, 100, 200].\n",
      "Comments about output file:\n",
      "\n",
      "The driving cost of your solution is 81126829389.5624.\n",
      "The walking cost of your solution is 3423723381.93985.\n",
      "The total cost of your solution is 84550552771.50224.\n",
      "\n",
      "(True, 'infinite', 'Your file is named 153_50.in. The allowed file names are: [50, 100, 200].\\nSince this input is invalid, you will not receive a score for its output.\\n')\n"
     ]
    }
   ],
   "source": [
    "solver.solve_from_file(\"./inputs/153_50.in\", \"./test_ouputs_single\")\n",
    "print(output_validator.validate_output(\"./inputs/153_50.in\", \"./test_ouputs_single/153_50.out\"))"
   ]
  },
  {
   "cell_type": "code",
   "execution_count": 4,
   "metadata": {},
   "outputs": [
    {
     "name": "stdout",
     "output_type": "stream",
     "text": [
      "Processing ./inputs/234_200.in\n",
      "Processing ./inputs/234_200.in\n",
      "Comments about input file:\n",
      "\n",
      "Your file is named 234_200.in. The allowed file names are: [50, 100, 200].\n",
      "Comments about output file:\n",
      "\n",
      "The driving cost of your solution is 23354394.0.\n",
      "The walking cost of your solution is 21482.0.\n",
      "The total cost of your solution is 23375876.0.\n",
      "\n",
      "(True, 'infinite', 'Your file is named 234_200.in. The allowed file names are: [50, 100, 200].\\nSince this input is invalid, you will not receive a score for its output.\\n')\n"
     ]
    }
   ],
   "source": [
    "solver.solve_from_file(\"./inputs/234_200.in\", \"./test_ouputs_single\")\n",
    "print(output_validator.validate_output(\"./inputs/234_200.in\", \"./test_ouputs_single/234_200.out\"))\n"
   ]
  },
  {
   "cell_type": "code",
   "execution_count": null,
   "metadata": {},
   "outputs": [],
   "source": []
  },
  {
   "cell_type": "code",
   "execution_count": 5,
   "metadata": {},
   "outputs": [],
   "source": [
    "#python3 compress_output.py test_ouputs"
   ]
  },
  {
   "cell_type": "code",
   "execution_count": 6,
   "metadata": {},
   "outputs": [
    {
     "name": "stdout",
     "output_type": "stream",
     "text": [
      "Processing ./inputs/22_100.in\n",
      "Processing ./inputs/22_100.in\n",
      "Comments about input file:\n",
      "\n",
      "Your file is named 22_100.in. The allowed file names are: [50, 100, 200].\n",
      "Comments about output file:\n",
      "\n",
      "The driving cost of your solution is 407.3333333333333.\n",
      "The walking cost of your solution is 1.0.\n",
      "The total cost of your solution is 408.3333333333333.\n",
      "\n",
      "(True, 'infinite', 'Your file is named 22_100.in. The allowed file names are: [50, 100, 200].\\nSince this input is invalid, you will not receive a score for its output.\\n')\n"
     ]
    }
   ],
   "source": [
    "solver.solve_from_file(\"./inputs/22_100.in\", \"./test_ouputs_single\")\n",
    "print(output_validator.validate_output(\"./inputs/22_100.in\", \"./test_ouputs_single/22_100.out\"))"
   ]
  },
  {
   "cell_type": "code",
   "execution_count": 7,
   "metadata": {},
   "outputs": [
    {
     "name": "stdout",
     "output_type": "stream",
     "text": [
      "Processing ./inputs/65_200.in\n",
      "Processing ./inputs/65_200.in\n",
      "Comments about input file:\n",
      "\n",
      "Your file is named 65_200.in. The allowed file names are: [50, 100, 200].\n",
      "Comments about output file:\n",
      "\n",
      "The driving cost of your solution is 3678.0.\n",
      "The walking cost of your solution is 166.0.\n",
      "The total cost of your solution is 3844.0.\n",
      "\n",
      "(True, 'infinite', 'Your file is named 65_200.in. The allowed file names are: [50, 100, 200].\\nSince this input is invalid, you will not receive a score for its output.\\n')\n"
     ]
    }
   ],
   "source": [
    "solver.solve_from_file(\"./inputs/65_200.in\", \"./test_ouputs_single\")\n",
    "print(output_validator.validate_output(\"./inputs/65_200.in\", \"./test_ouputs_single/65_200.out\"))"
   ]
  },
  {
   "cell_type": "code",
   "execution_count": 8,
   "metadata": {},
   "outputs": [],
   "source": [
    "# solver.solve_all(\"./inputs\", \"./test_ouputs\")"
   ]
  },
  {
   "cell_type": "code",
   "execution_count": 9,
   "metadata": {
    "scrolled": false
   },
   "outputs": [
    {
     "name": "stdout",
     "output_type": "stream",
     "text": [
      "Processing ./inputs/120_50.in\n",
      "Processing ./inputs/120_50.in\n",
      "Comments about input file:\n",
      "\n",
      "Your file is named 120_50.in. The allowed file names are: [50, 100, 200].\n",
      "Comments about output file:\n",
      "\n",
      "The driving cost of your solution is 45.333333333333336.\n",
      "The walking cost of your solution is 2.0.\n",
      "The total cost of your solution is 47.333333333333336.\n",
      "\n",
      "(True, 'infinite', 'Your file is named 120_50.in. The allowed file names are: [50, 100, 200].\\nSince this input is invalid, you will not receive a score for its output.\\n')\n"
     ]
    }
   ],
   "source": [
    "solver.solve_from_file(\"./inputs/120_50.in\", \"./test_ouputs_single\")\n",
    "print(output_validator.validate_output(\"./inputs/120_50.in\", \"./test_ouputs_single/120_50.out\"))"
   ]
  },
  {
   "cell_type": "code",
   "execution_count": 10,
   "metadata": {},
   "outputs": [],
   "source": [
    "#failed = ['204_50','301_50','120_50','31_50','120_100','199_100','65_50','108_200','141_50','166_200','161_100','111_200','113_50','204_100','113_200','86_50','186_200','108_50','293_100','177_100','219_50','151_200','321_100','293_200','318_200','141_100','141_200','231_50','134_100','108_100','151_100','259_50','293_50','36_50','345_200','340_200','301_100','31_200','123_100','116_50','64_200','177_50','172_100','37_50','218_100','207_200','181_50','166_100','314_100','207_100','172_200','241_100','105_50','194_200','364_50','32_50','151_50','287_100','166_50','186_100','254_100','186_50','254_200']"
   ]
  },
  {
   "cell_type": "code",
   "execution_count": 11,
   "metadata": {},
   "outputs": [],
   "source": [
    "# for f in failed:\n",
    "#     solver.solve_from_file(\"./inputs/\"+f+\".in\", \"./test_ouputs_single\")\n",
    "#     print(output_validator.validate_output(\"./inputs/\"+f+\".in\", \"./test_ouputs_single/\"+f+\".out\"))"
   ]
  },
  {
   "cell_type": "code",
   "execution_count": 12,
   "metadata": {},
   "outputs": [],
   "source": [
    "#solver.solve_all(\"./inputs\", \"./test_ouputs\")"
   ]
  },
  {
   "cell_type": "code",
   "execution_count": 13,
   "metadata": {},
   "outputs": [
    {
     "name": "stdout",
     "output_type": "stream",
     "text": [
      "Processing ./inputs/340_200.in\n",
      "Processing ./inputs/340_200.in\n",
      "Comments about input file:\n",
      "\n",
      "Your file is named 340_200.in. The allowed file names are: [50, 100, 200].\n",
      "Comments about output file:\n",
      "\n",
      "The driving cost of your solution is 4810.93176.\n",
      "The walking cost of your solution is 663.3921399999999.\n",
      "The total cost of your solution is 5474.3239.\n",
      "\n",
      "(True, 'infinite', 'Your file is named 340_200.in. The allowed file names are: [50, 100, 200].\\nSince this input is invalid, you will not receive a score for its output.\\n')\n"
     ]
    }
   ],
   "source": [
    "solver.solve_from_file(\"./inputs/340_200.in\", \"./test_ouputs_single\")\n",
    "print(output_validator.validate_output(\"./inputs/340_200.in\", \"./test_ouputs_single/340_200.out\"))"
   ]
  },
  {
   "cell_type": "code",
   "execution_count": null,
   "metadata": {},
   "outputs": [],
   "source": []
  }
 ],
 "metadata": {
  "kernelspec": {
   "display_name": "Python 3",
   "language": "python",
   "name": "python3"
  },
  "language_info": {
   "codemirror_mode": {
    "name": "ipython",
    "version": 3
   },
   "file_extension": ".py",
   "mimetype": "text/x-python",
   "name": "python",
   "nbconvert_exporter": "python",
   "pygments_lexer": "ipython3",
   "version": "3.7.4"
  }
 },
 "nbformat": 4,
 "nbformat_minor": 2
}

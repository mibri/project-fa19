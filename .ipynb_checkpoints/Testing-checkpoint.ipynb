{
 "cells": [
  {
   "cell_type": "code",
   "execution_count": 1,
   "metadata": {},
   "outputs": [],
   "source": [
    "import solver\n",
    "import output_validator\n",
    "import matplotlib as plt"
   ]
  },
  {
   "cell_type": "code",
   "execution_count": 2,
   "metadata": {},
   "outputs": [],
   "source": [
    "solver.solve_all(\"./inputs\", \"./test_ouputs\")"
   ]
  },
  {
   "cell_type": "code",
   "execution_count": 3,
   "metadata": {},
   "outputs": [
    {
     "name": "stdout",
     "output_type": "stream",
     "text": [
      "Processing ./inputs/293_50.in\n",
      "True\n",
      "[0, 3, 2, 3, 4, 3, 5, 3, 0]\n",
      "palindrome: [1, 3, True]\n",
      "palindrome: [1, 3, True]\n",
      "palindrome: [1, 3, True]\n",
      "[0, 3, 0]\n",
      "{3: [3, 2, 4, 5]}\n",
      "Processing ./inputs/293_50.in\n",
      "Comments about input file:\n",
      "\n",
      "Your file is named 293_50.in. The allowed file names are: [50, 100, 200].\n",
      "Comments about output file:\n",
      "\n",
      "The driving cost of your solution is 1.3333333333333333.\n",
      "The walking cost of your solution is 3.0.\n",
      "The total cost of your solution is 4.333333333333333.\n",
      "\n",
      "(True, 'infinite', 'Your file is named 293_50.in. The allowed file names are: [50, 100, 200].\\nSince this input is invalid, you will not receive a score for its output.\\n')\n"
     ]
    }
   ],
   "source": [
    "# solver.solve_from_file(\"./inputs/293_50.in\", \"./test_ouputs_single\")\n",
    "# print(output_validator.validate_output(\"./inputs/293_50.in\", \"./test_ouputs_single/293_50.out\"))"
   ]
  },
  {
   "cell_type": "code",
   "execution_count": null,
   "metadata": {},
   "outputs": [],
   "source": []
  }
 ],
 "metadata": {
  "kernelspec": {
   "display_name": "Python 3",
   "language": "python",
   "name": "python3"
  },
  "language_info": {
   "codemirror_mode": {
    "name": "ipython",
    "version": 3
   },
   "file_extension": ".py",
   "mimetype": "text/x-python",
   "name": "python",
   "nbconvert_exporter": "python",
   "pygments_lexer": "ipython3",
   "version": "3.6.3"
  }
 },
 "nbformat": 4,
 "nbformat_minor": 2
}
